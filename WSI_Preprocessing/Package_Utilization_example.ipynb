{
 "cells": [
  {
   "cell_type": "code",
   "execution_count": null,
   "metadata": {},
   "outputs": [],
   "source": [
    "###Reading image example\n",
    "\n",
    "from WSI_Preprocessing.Preprocessing import WSI_Scanning \n",
    "import cv2 \n",
    "img,slide_dim = WSI_Scanning.readWSI(\"example.svs\") \n",
    "cv2.imwrite(\"example.png\",img)\n"
   ]
  },
  {
   "cell_type": "code",
   "execution_count": 1,
   "metadata": {},
   "outputs": [
    {
     "name": "stdout",
     "output_type": "stream",
     "text": [
      "Highest magnification level is 20x\n",
      "cleanedimage at low maginfication done\n",
      "loading high magnification image\n",
      "cleaning image at high mignification\n",
      "cleaning WSI done\n",
      "exisiting cleaning\n"
     ]
    },
    {
     "data": {
      "text/plain": [
       "True"
      ]
     },
     "execution_count": 1,
     "metadata": {},
     "output_type": "execute_result"
    }
   ],
   "source": [
    "### cleaning image example\n",
    "\n",
    "from WSI_Preprocessing.Preprocessing import Denoising \n",
    "import cv2 \n",
    "# Here mandatory options are example.svs and magniﬁcation \n",
    "img = Denoising.denoising(\"example.svs\", \"20x\" ) \n",
    "cv2.imwrite(\"example.png\",img)\n"
   ]
  },
  {
   "cell_type": "code",
   "execution_count": 1,
   "metadata": {},
   "outputs": [
    {
     "name": "stdout",
     "output_type": "stream",
     "text": [
      "Highest magnification level is 20x\n",
      "cleanedimage at low maginfication done\n",
      "loading high magnification image\n",
      "cleaning image at high mignification\n",
      "cleaning WSI done\n",
      "exisiting cleaning\n",
      "patch_extraction_started\n",
      "patch_extraction_done\n",
      "reconstructing image\n",
      "done\n"
     ]
    },
    {
     "data": {
      "text/plain": [
       "True"
      ]
     },
     "execution_count": 1,
     "metadata": {},
     "output_type": "execute_result"
    }
   ],
   "source": [
    "##patch extarction and reconstruction example\n",
    "\n",
    "from WSI_Preprocessing.Preprocessing import Extarctingpatches\n",
    "import cv2 \n",
    "img = Extarctingpatches.extractingPatches(\"example.svs\",\"temp\" ,\"20x\" ) \n",
    "cv2.imwrite(\"exampler.png\",img)"
   ]
  },
  {
   "cell_type": "code",
   "execution_count": null,
   "metadata": {},
   "outputs": [],
   "source": []
  }
 ],
 "metadata": {
  "kernelspec": {
   "display_name": "Python 3",
   "language": "python",
   "name": "python3"
  },
  "language_info": {
   "codemirror_mode": {
    "name": "ipython",
    "version": 3
   },
   "file_extension": ".py",
   "mimetype": "text/x-python",
   "name": "python",
   "nbconvert_exporter": "python",
   "pygments_lexer": "ipython3",
   "version": "3.6.8"
  }
 },
 "nbformat": 4,
 "nbformat_minor": 4
}
